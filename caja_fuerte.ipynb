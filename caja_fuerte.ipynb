{
 "cells": [
  {
   "cell_type": "markdown",
   "metadata": {},
   "source": [
    "## CASO PRACTICO MODULO 3\n",
    "\n",
    "Cree una clase nueva que represente una caja fuerte, a la cual deberá de agregar los métodos :\n",
    "\n",
    "- Para abono\n",
    "\n",
    "- Retiro de efectivo\n",
    "\n",
    "- Saldo actual\n",
    "\n",
    "Cree por lo menos un objeto de la clase creada y demuestre el flujo de abono, retiro e impresión de saldo"
   ]
  },
  {
   "cell_type": "code",
   "execution_count": 1,
   "metadata": {},
   "outputs": [
    {
     "name": "stdout",
     "output_type": "stream",
     "text": [
      "Se metieron 50 pesos\n",
      "Se retiraron 80 pesos\n",
      "El saldo de mi caja fuerte es: 170\n"
     ]
    }
   ],
   "source": [
    "class CajaFuerte():\n",
    "    def __init__(self, combinacion, cantidad_acumulada):\n",
    "        self.combinacion = combinacion\n",
    "        self.cantidad_acumulada = cantidad_acumulada\n",
    "        self.abierta = False\n",
    "\n",
    "    def cerrarCajaFuerte(self):\n",
    "        self.abierta = False\n",
    "        \n",
    "    def abrirCajaFuerte(self, combinacion):\n",
    "        if self.combinacion == combinacion:\n",
    "            self.abierta = True\n",
    "        else:\n",
    "            print(\"La combinacion no es la correcta\")\n",
    "\n",
    "    def meterDinero(self, cantidad, combinacion):\n",
    "        self.abrirCajaFuerte(combinacion)\n",
    "        if self.abierta == True:\n",
    "            self.cantidad_acumulada = self.cantidad_acumulada + cantidad\n",
    "            self.cerrarCajaFuerte()\n",
    "            print(\"Se metieron \" + str(cantidad) + \" pesos\")\n",
    "\n",
    "    def sacarDinero(self, cantidad, combinacion):\n",
    "        self.abrirCajaFuerte(combinacion)\n",
    "        if self.abierta == True:\n",
    "            self.cantidad_acumulada = self.cantidad_acumulada - cantidad\n",
    "            self.cerrarCajaFuerte()\n",
    "\n",
    "            print(\"Se retiraron \" + str(cantidad) + \" pesos\")\n",
    "    def saldoCaja(self, combinacion):\n",
    "        self.abrirCajaFuerte(combinacion)\n",
    "        if self.abierta == True:\n",
    "            print(\"El saldo de mi caja fuerte es: \" + str(self.cantidad_acumulada))\n",
    "\n",
    "\n",
    "CajaFuerte_Mario = CajaFuerte(123456, 100)\n",
    "CajaFuerte_Jose = CajaFuerte(0000, 200) \n",
    "\n",
    "CajaFuerte_Jose.meterDinero(50, 0000)\n",
    "CajaFuerte_Jose.sacarDinero(80, 0000)\n",
    "CajaFuerte_Jose.saldoCaja(0000)"
   ]
  }
 ],
 "metadata": {
  "kernelspec": {
   "display_name": "Python 3",
   "language": "python",
   "name": "python3"
  },
  "language_info": {
   "codemirror_mode": {
    "name": "ipython",
    "version": 3
   },
   "file_extension": ".py",
   "mimetype": "text/x-python",
   "name": "python",
   "nbconvert_exporter": "python",
   "pygments_lexer": "ipython3",
   "version": "3.12.4"
  }
 },
 "nbformat": 4,
 "nbformat_minor": 2
}
